{
 "cells": [
  {
   "cell_type": "code",
   "execution_count": 1,
   "metadata": {},
   "outputs": [
    {
     "name": "stdout",
     "output_type": "stream",
     "text": [
      "Requirement already satisfied: BeautifulSoup4 in /Users/Gabriel/opt/anaconda3/lib/python3.9/site-packages (4.10.0)\n",
      "Requirement already satisfied: requests in /Users/Gabriel/opt/anaconda3/lib/python3.9/site-packages (2.26.0)\n",
      "Requirement already satisfied: soupsieve>1.2 in /Users/Gabriel/opt/anaconda3/lib/python3.9/site-packages (from BeautifulSoup4) (2.2.1)\n",
      "Requirement already satisfied: certifi>=2017.4.17 in /Users/Gabriel/opt/anaconda3/lib/python3.9/site-packages (from requests) (2021.10.8)\n",
      "Requirement already satisfied: urllib3<1.27,>=1.21.1 in /Users/Gabriel/opt/anaconda3/lib/python3.9/site-packages (from requests) (1.26.7)\n",
      "Requirement already satisfied: idna<4,>=2.5 in /Users/Gabriel/opt/anaconda3/lib/python3.9/site-packages (from requests) (3.2)\n",
      "Requirement already satisfied: charset-normalizer~=2.0.0 in /Users/Gabriel/opt/anaconda3/lib/python3.9/site-packages (from requests) (2.0.4)\n",
      "Note: you may need to restart the kernel to use updated packages.\n",
      "Requirement already satisfied: pandas in /Users/Gabriel/opt/anaconda3/lib/python3.9/site-packages (1.5.2)\n",
      "Requirement already satisfied: pytz>=2020.1 in /Users/Gabriel/opt/anaconda3/lib/python3.9/site-packages (from pandas) (2021.3)\n",
      "Requirement already satisfied: numpy>=1.20.3 in /Users/Gabriel/opt/anaconda3/lib/python3.9/site-packages (from pandas) (1.20.3)\n",
      "Requirement already satisfied: python-dateutil>=2.8.1 in /Users/Gabriel/opt/anaconda3/lib/python3.9/site-packages (from pandas) (2.8.2)\n",
      "Requirement already satisfied: six>=1.5 in /Users/Gabriel/opt/anaconda3/lib/python3.9/site-packages (from python-dateutil>=2.8.1->pandas) (1.16.0)\n",
      "Note: you may need to restart the kernel to use updated packages.\n",
      "Requirement already satisfied: requests in /Users/Gabriel/opt/anaconda3/lib/python3.9/site-packages (2.26.0)\n",
      "Requirement already satisfied: charset-normalizer~=2.0.0 in /Users/Gabriel/opt/anaconda3/lib/python3.9/site-packages (from requests) (2.0.4)\n",
      "Requirement already satisfied: urllib3<1.27,>=1.21.1 in /Users/Gabriel/opt/anaconda3/lib/python3.9/site-packages (from requests) (1.26.7)\n",
      "Requirement already satisfied: idna<4,>=2.5 in /Users/Gabriel/opt/anaconda3/lib/python3.9/site-packages (from requests) (3.2)\n",
      "Requirement already satisfied: certifi>=2017.4.17 in /Users/Gabriel/opt/anaconda3/lib/python3.9/site-packages (from requests) (2021.10.8)\n",
      "Note: you may need to restart the kernel to use updated packages.\n"
     ]
    }
   ],
   "source": [
    "# Install the required libraries\n",
    "%pip install BeautifulSoup4 requests\n",
    "%pip install pandas\n",
    "%pip install requests\n"
   ]
  },
  {
   "cell_type": "code",
   "execution_count": 2,
   "metadata": {},
   "outputs": [
    {
     "name": "stdout",
     "output_type": "stream",
     "text": [
      "['https://www.google.com/search?q=python+programming', 'https://www.google.com/search?q=data+science', 'https://www.google.com/search?q=machine+learning']\n"
     ]
    }
   ],
   "source": [
    "import pandas as pd\n",
    "\n",
    "# Read the TSV file and store the URLs in a variable\n",
    "df = pd.read_csv('urls.tsv', header=None, sep='\\t') # Uses the sep='\\t' parameter only because the file is a .tsv\n",
    "df[0] = df[0].apply(lambda x: x.replace(',', '+')) # Replace commas with plus signs\n",
    "df[0] = df[0].apply(lambda x: x.replace(' ', '+')) # Replace spaces with plus signs\n",
    "df[0] = df[0].apply(lambda x: x.replace('&num=1', '&num=10')) # Replace parameters with Google result quantities\n",
    "urls = df[0].tolist() # Convert the dataframe to a list\n",
    "print(urls) # Print the list\n"
   ]
  },
  {
   "cell_type": "code",
   "execution_count": 3,
   "metadata": {},
   "outputs": [
    {
     "name": "stdout",
     "output_type": "stream",
     "text": [
      "https://www.python.org/\n",
      "https://www.datascienceacademy.com.br/\n",
      "https://tecnoblog.net/responde/machine-learning-ia-o-que-e/\n"
     ]
    }
   ],
   "source": [
    "from bs4 import BeautifulSoup\n",
    "import requests\n",
    "\n",
    "for url in urls:\n",
    "    # Sending GET request to the URL\n",
    "    response = requests.get(url)\n",
    "    # Parsing the HTML content of the response\n",
    "    soup = BeautifulSoup(response.content, 'html.parser')\n",
    "\n",
    "    # Finding all the links on the page\n",
    "    links = soup.find_all('a')\n",
    "\n",
    "    # Iterating through all the links on the page\n",
    "    for link in links:\n",
    "        # Checking if the link starts with /url?q=\n",
    "        if link.has_attr('href') and link.get('href').startswith('/url?q='):\n",
    "            # Extracting the URL of the site from the href attribute\n",
    "            site_url = link.get('href').split('/url?q=')[1].split('&')[0]\n",
    "\n",
    "            # Printing the URL of the site\n",
    "            print(site_url)\n",
    "            break  # Breaking out of the loop after printing the first valid link\n"
   ]
  }
 ],
 "metadata": {
  "kernelspec": {
   "display_name": "base",
   "language": "python",
   "name": "python3"
  },
  "language_info": {
   "codemirror_mode": {
    "name": "ipython",
    "version": 3
   },
   "file_extension": ".py",
   "mimetype": "text/x-python",
   "name": "python",
   "nbconvert_exporter": "python",
   "pygments_lexer": "ipython3",
   "version": "3.9.7"
  },
  "orig_nbformat": 4
 },
 "nbformat": 4,
 "nbformat_minor": 2
}
